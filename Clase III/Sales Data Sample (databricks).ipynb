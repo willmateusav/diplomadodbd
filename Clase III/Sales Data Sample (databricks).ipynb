{
 "cells": [
  {
   "cell_type": "markdown",
   "metadata": {
    "application/vnd.databricks.v1+cell": {
     "cellMetadata": {
      "byteLimit": 2048000,
      "rowLimit": 10000
     },
     "inputWidgets": {},
     "nuid": "1f7365cc-531a-46d0-aa4b-fe7b6c488813",
     "showTitle": false,
     "tableResultSettingsMap": {},
     "title": ""
    }
   },
   "source": [
    "# 📊 Notebook de Análisis y Persistencia de `sales_data_sample`\n",
    "\n",
    "Este notebook en **Databricks + PySpark** carga, procesa y analiza el archivo \n",
    "`sales_data_sample.csv`.  Información del dataset: https://www.kaggle.com/datasets/kyanyoga/sample-sales-data\n",
    "\n",
    "Incluye:\n",
    "- ✅ Lectura \n",
    "- ✅ Creación de vistas temporales y persistentes  \n",
    "- ✅ Consultas con joins y agregaciones  \n",
    "- ✅ Ejemplos de funciones de ventana explicadas en detalle  "
   ]
  },
  {
   "cell_type": "code",
   "execution_count": 0,
   "metadata": {
    "application/vnd.databricks.v1+cell": {
     "cellMetadata": {
      "byteLimit": 2048000,
      "rowLimit": 10000
     },
     "inputWidgets": {},
     "nuid": "f516e49d-6393-46e5-bad0-a05cdb6246e3",
     "showTitle": true,
     "tableResultSettingsMap": {},
     "title": "LECTURA DEL ARCHIVO"
    }
   },
   "outputs": [],
   "source": [
    "from pyspark.sql import functions as F\n",
    "from pyspark.sql.window import Window\n",
    "\n",
    "# Ruta por defecto (ajusta si tu CSV está en otra ubicación)\n",
    "file_path = \"/Volumes/workspace/dbtest/dataclase3\"\n",
    "\n",
    "# Lectura del CSV con header=True y separador ','\n",
    "df_sales = spark.read.option(\"header\", \"true\") \\\n",
    ".option(\"sep\", \",\") \\\n",
    ".option(\"inferSchema\", \"true\") \\\n",
    ".csv(file_path)\n",
    "\n",
    "# Mostrar esquema y primeras filas\n",
    "print(\"Esquema detectado:\")\n",
    "df_sales.printSchema()\n",
    "\n",
    "# En Databricks es práctico usar display()\n",
    "display(df_sales.limit(10))"
   ]
  },
  {
   "cell_type": "markdown",
   "metadata": {
    "application/vnd.databricks.v1+cell": {
     "cellMetadata": {
      "byteLimit": 2048000,
      "rowLimit": 10000
     },
     "inputWidgets": {},
     "nuid": "cb635622-813f-4645-9786-73c7f6c8620e",
     "showTitle": false,
     "tableResultSettingsMap": {},
     "title": ""
    }
   },
   "source": [
    "## Creación de Vistas Temporales y Globales\n",
    "En Spark/Databricks podemos exponer DataFrames como vistas SQL:\n",
    "\n",
    "- **Vista Temporal**: solo disponible en la sesión actual.  \n",
    "- **Vista Global Temporal**: accesible desde todas las sesiones dentro de la aplicación Spark.  "
   ]
  },
  {
   "cell_type": "code",
   "execution_count": 0,
   "metadata": {
    "application/vnd.databricks.v1+cell": {
     "cellMetadata": {
      "byteLimit": 2048000,
      "rowLimit": 10000
     },
     "inputWidgets": {},
     "nuid": "ad2c4b20-cf2b-4333-ab76-0b127969ee31",
     "showTitle": true,
     "tableResultSettingsMap": {},
     "title": "VISTAS TEMPORALES Y GLOBALES"
    }
   },
   "outputs": [],
   "source": [
    "\n",
    "# Vista temporal\n",
    "df_sales.createOrReplaceTempView(\"vw_sales_temp\")\n",
    "\n",
    "# Vista global\n",
    "df_sales.createOrReplaceGlobalTempView(\"vw_sales_global\")\n",
    "\n",
    "print(\"✅ Vistas creadas: vw_sales_temp (temporal) y global_temp.vw_sales_global (global)\")"
   ]
  },
  {
   "cell_type": "markdown",
   "metadata": {
    "application/vnd.databricks.v1+cell": {
     "cellMetadata": {
      "byteLimit": 2048000,
      "rowLimit": 10000
     },
     "inputWidgets": {},
     "nuid": "ae972303-36bd-442e-9e10-8eec95c1f010",
     "showTitle": false,
     "tableResultSettingsMap": {},
     "title": ""
    }
   },
   "source": [
    "## Creación de Tabla Persistente en Catálogo\n",
    "Creamos un esquema llamado `sales_analytics` y guardamos la tabla en formato **Delta**.  \n",
    "Este formato soporta **ACID transactions, versioning y optimizaciones**."
   ]
  },
  {
   "cell_type": "code",
   "execution_count": 0,
   "metadata": {
    "application/vnd.databricks.v1+cell": {
     "cellMetadata": {
      "byteLimit": 2048000,
      "rowLimit": 10000
     },
     "inputWidgets": {},
     "nuid": "4c0768e4-897a-4ea3-b3b4-9e2005c9f423",
     "showTitle": true,
     "tableResultSettingsMap": {},
     "title": "CREACIÓN DE TABLA DENTRO DEL CATÁLOGO"
    }
   },
   "outputs": [],
   "source": [
    "spark.sql(\"CREATE DATABASE IF NOT EXISTS sales_analytics\")\n",
    "\n",
    "df_sales.write.format(\"delta\").mode(\"overwrite\").saveAsTable(\"sales_analytics.sales_raw\")\n",
    "\n",
    "print(\"✅ Tabla persistente creada: sales_analytics.sales_raw\")"
   ]
  },
  {
   "cell_type": "code",
   "execution_count": 0,
   "metadata": {
    "application/vnd.databricks.v1+cell": {
     "cellMetadata": {
      "byteLimit": 2048000,
      "implicitDf": true,
      "rowLimit": 10000
     },
     "inputWidgets": {},
     "nuid": "ab656b45-7fba-47d4-b199-32dd532549cf",
     "showTitle": true,
     "tableResultSettingsMap": {},
     "title": "LECTURA Y CONSULTA DE LA TABLA SALES_RAW"
    }
   },
   "outputs": [],
   "source": [
    "%sql\n",
    "-- SELECT * \n",
    "-- FROM sales_analytics.sales_raw;\n",
    "\n",
    "SELECT\n",
    "    PRODUCTLINE,\n",
    "    YEAR_ID,\n",
    "    QTR_ID,\n",
    "    SUM(SALES) AS total_sales,\n",
    "    COUNT(DISTINCT ORDERNUMBER) AS total_orders,\n",
    "    ROUND(AVG(PRICEEACH), 2) AS avg_unit_price,\n",
    "    ROUND(SUM(SALES) / COUNT(DISTINCT ORDERNUMBER), 2) AS avg_sales_per_order\n",
    "FROM sales_Analytics.sales_raw\n",
    "WHERE STATUS = 'Shipped'   -- Filtramos solo pedidos efectivamente enviados\n",
    "GROUP BY PRODUCTLINE, YEAR_ID, QTR_ID\n",
    "ORDER BY total_sales DESC\n",
    "LIMIT 20;"
   ]
  },
  {
   "cell_type": "markdown",
   "metadata": {
    "application/vnd.databricks.v1+cell": {
     "cellMetadata": {
      "byteLimit": 2048000,
      "rowLimit": 10000
     },
     "inputWidgets": {},
     "nuid": "7fe93636-462c-484d-b858-61d9d25ca820",
     "showTitle": false,
     "tableResultSettingsMap": {},
     "title": ""
    }
   },
   "source": [
    "### Agregaciones y Joins\n",
    "1. Resumen de ventas por cliente  \n",
    "2. Catálogo de productos únicos  \n",
    "3. Join con los **Top 10 clientes** y pedidos con `QUANTITYORDERED` superior al promedio global"
   ]
  },
  {
   "cell_type": "code",
   "execution_count": 0,
   "metadata": {
    "application/vnd.databricks.v1+cell": {
     "cellMetadata": {
      "byteLimit": 2048000,
      "rowLimit": 10000
     },
     "inputWidgets": {},
     "nuid": "7bea6960-ffb8-4cb9-b343-c832be07c612",
     "showTitle": true,
     "tableResultSettingsMap": {},
     "title": "AGREGACIONES (AGG) Y JOIN"
    }
   },
   "outputs": [],
   "source": [
    "agg_cliente = df_sales.groupBy(\"CUSTOMERNAME\") \\\n",
    "                     .agg(F.sum(\"SALES\").alias(\"total_sales\"), \\\n",
    "                          F.countDistinct(\"ORDERNUMBER\").alias(\"order_count\")) \\\n",
    "                     .orderBy(F.desc(\"total_sales\"))\n",
    "\n",
    "display(agg_cliente.limit(10))\n",
    "\n",
    "# Tabla de Productos únicos\n",
    "productos = df_sales.select(\"PRODUCTCODE\", \"PRODUCTLINE\", \"MSRP\", \"PRICEEACH\").dropDuplicates([\"PRODUCTCODE\"])\n",
    "\n",
    "# Se crea lista de los top 10 clientes\n",
    "top10_customers = [r[\"CUSTOMERNAME\"] for r in agg_cliente.limit(10).collect()] # Lista en Python\n",
    "avg_qty = df_sales.agg(F.avg(\"QUANTITYORDERED\")).collect()[0][0]\n",
    "\n",
    "df_top_orders = df_sales.filter((F.col(\"CUSTOMERNAME\").isin(top10_customers)) & (F.col(\"QUANTITYORDERED\") > avg_qty))\n",
    "\n",
    "display(df_top_orders.limit(20))"
   ]
  },
  {
   "cell_type": "code",
   "execution_count": 0,
   "metadata": {
    "application/vnd.databricks.v1+cell": {
     "cellMetadata": {
      "byteLimit": 2048000,
      "rowLimit": 10000
     },
     "inputWidgets": {},
     "nuid": "a86c3ce9-6203-4ad1-9aa8-a0d9cd76fae6",
     "showTitle": true,
     "tableResultSettingsMap": {},
     "title": "DATOS SIMULADOS"
    }
   },
   "outputs": [],
   "source": [
    "from pyspark.sql import functions as F\n",
    "from pyspark.sql.window import Window\n",
    "\n",
    "# Datos simulados: ventas diarias por vendedor\n",
    "data = [\n",
    "    (\"Ana\", \"2025-09-01\", 200),\n",
    "    (\"Ana\", \"2025-09-02\", 350),\n",
    "    (\"Ana\", \"2025-09-03\", 400),\n",
    "    (\"Ana\", \"2025-09-04\", 150),\n",
    "    (\"Luis\", \"2025-09-01\", 500),\n",
    "    (\"Luis\", \"2025-09-02\", 300),\n",
    "    (\"Luis\", \"2025-09-03\", 450),\n",
    "    (\"Luis\", \"2025-09-04\", 250),\n",
    "    (\"Marta\", \"2025-09-01\", 600),\n",
    "    (\"Marta\", \"2025-09-02\", 700),\n",
    "    (\"Marta\", \"2025-09-03\", 500),\n",
    "]\n",
    "\n",
    "columns = [\"vendedor\", \"fecha\", \"ventas\"]\n",
    "\n",
    "df = spark.createDataFrame(data, columns)\n",
    "\n",
    "print(\"=== Datos de ejemplo ===\")\n",
    "df.show()"
   ]
  },
  {
   "cell_type": "code",
   "execution_count": 0,
   "metadata": {
    "application/vnd.databricks.v1+cell": {
     "cellMetadata": {
      "byteLimit": 2048000,
      "rowLimit": 10000
     },
     "inputWidgets": {},
     "nuid": "d76ad38c-497e-4440-ae38-c7b2e5f76af3",
     "showTitle": true,
     "tableResultSettingsMap": {},
     "title": "DEFINIR LA VENTANA"
    }
   },
   "outputs": [],
   "source": [
    "# Definir ventana: partición por vendedor y orden por fecha\n",
    "window_spec = Window.partitionBy(\"vendedor\").orderBy(\"fecha\")"
   ]
  },
  {
   "cell_type": "markdown",
   "metadata": {
    "application/vnd.databricks.v1+cell": {
     "cellMetadata": {},
     "inputWidgets": {},
     "nuid": "bd830899-cdb4-4080-8e54-371267e227f4",
     "showTitle": false,
     "tableResultSettingsMap": {},
     "title": ""
    }
   },
   "source": [
    "1. Cálculo con filas anteriores o siguientes (lag, lead)\n",
    "\n",
    "- Se crea una columna con las ventas del día anterior y otra con el día siguiente para cada vendedor.\n",
    "- Ejemplo: Ana (2025-09-02) → ventas_dia_anterior = 200, ventas_dia_siguiente = 400."
   ]
  },
  {
   "cell_type": "code",
   "execution_count": 0,
   "metadata": {
    "application/vnd.databricks.v1+cell": {
     "cellMetadata": {
      "byteLimit": 2048000,
      "rowLimit": 10000
     },
     "inputWidgets": {},
     "nuid": "e69a79f7-cf17-49b1-b65a-45d9e80fe7fc",
     "showTitle": true,
     "tableResultSettingsMap": {},
     "title": "VENTANA FILA ANTERIOR Y SIGUIENTE"
    }
   },
   "outputs": [],
   "source": [
    "# ==============================\n",
    "# 1. Cálculo con filas anteriores o siguientes\n",
    "# ==============================\n",
    "df_lag = df.withColumn(\"ventas_dia_anterior\", F.lag(\"ventas\", 1).over(window_spec)) \\\n",
    "           .withColumn(\"ventas_dia_siguiente\", F.lead(\"ventas\", 1).over(window_spec))\n",
    "\n",
    "print(\"=== Cálculo con filas anteriores y siguientes ===\")\n",
    "df_lag.show()"
   ]
  },
  {
   "cell_type": "markdown",
   "metadata": {
    "application/vnd.databricks.v1+cell": {
     "cellMetadata": {},
     "inputWidgets": {},
     "nuid": "365f7d5e-79bc-4cde-a828-6110c077e22d",
     "showTitle": false,
     "tableResultSettingsMap": {},
     "title": ""
    }
   },
   "source": [
    "2. Cálculos acumulativos (sum con window)\n",
    "\n",
    "- Se calcula la suma acumulada de ventas por vendedor a lo largo de las fechas.\n",
    "- Ejemplo: Ana (2025-09-03) → ventas acumuladas = 200 + 350 + 400 = 950."
   ]
  },
  {
   "cell_type": "code",
   "execution_count": 0,
   "metadata": {
    "application/vnd.databricks.v1+cell": {
     "cellMetadata": {
      "byteLimit": 2048000,
      "rowLimit": 10000
     },
     "inputWidgets": {},
     "nuid": "8cc1f663-12d6-46ba-88d7-070beb81de31",
     "showTitle": true,
     "tableResultSettingsMap": {},
     "title": "VENTANA ACUMULADOS"
    }
   },
   "outputs": [],
   "source": [
    "# ==============================\n",
    "# 2. Cálculos acumulativos\n",
    "# ==============================\n",
    "df_cumulative = df.withColumn(\"ventas_acumuladas\", F.sum(\"ventas\").over(window_spec))\n",
    "\n",
    "print(\"=== Cálculo acumulativo de ventas ===\")\n",
    "df_cumulative.show()"
   ]
  },
  {
   "cell_type": "markdown",
   "metadata": {
    "application/vnd.databricks.v1+cell": {
     "cellMetadata": {},
     "inputWidgets": {},
     "nuid": "7a2d31ee-470e-4fda-b6a6-903bbff92650",
     "showTitle": false,
     "tableResultSettingsMap": {},
     "title": ""
    }
   },
   "source": [
    "3. Funciones de ranking (row_number, rank, dense_rank)\n",
    "\n",
    "- Se asignan posiciones de orden a las filas de cada vendedor:\n",
    "\n",
    "  - row_number() → enumeración simple (1,2,3...).\n",
    "  - rank() → ranking con saltos si hay empates.\n",
    "  - dense_rank() → ranking sin saltos."
   ]
  },
  {
   "cell_type": "code",
   "execution_count": 0,
   "metadata": {
    "application/vnd.databricks.v1+cell": {
     "cellMetadata": {
      "byteLimit": 2048000,
      "rowLimit": 10000
     },
     "inputWidgets": {},
     "nuid": "4f2ecd58-57e5-45ee-b50e-b516fa1f0d88",
     "showTitle": true,
     "tableResultSettingsMap": {},
     "title": "VENTANA RANKING"
    }
   },
   "outputs": [],
   "source": [
    "# ==============================\n",
    "# 3. Funciones de ranking\n",
    "# ==============================\n",
    "df_rank = df.withColumn(\"row_num\", F.row_number().over(window_spec)) \\\n",
    "            .withColumn(\"rank\", F.rank().over(window_spec)) \\\n",
    "            .withColumn(\"dense_rank\", F.dense_rank().over(window_spec))\n",
    "\n",
    "print(\"=== Ranking de ventas por fecha ===\")\n",
    "df_rank.show()"
   ]
  },
  {
   "cell_type": "code",
   "execution_count": 0,
   "metadata": {
    "application/vnd.databricks.v1+cell": {
     "cellMetadata": {
      "byteLimit": 2048000,
      "rowLimit": 10000
     },
     "inputWidgets": {},
     "nuid": "00f6f1e3-feed-4d70-bcb2-d6202808e305",
     "showTitle": true,
     "tableResultSettingsMap": {},
     "title": "VENTANA RANK VS DENSE_RANK"
    }
   },
   "outputs": [],
   "source": [
    "# ==============================\n",
    "# Ejemplo de rank() vs dense_rank()\n",
    "# ==============================\n",
    "\n",
    "# Datos simulados: puntajes de estudiantes en un examen\n",
    "data = [\n",
    "    (\"Ana\", 95),\n",
    "    (\"Luis\", 90),\n",
    "    (\"Marta\", 95),\n",
    "    (\"Pedro\", 88),\n",
    "    (\"Lucía\", 90),\n",
    "    (\"Jorge\", 85),\n",
    "    (\"Sofía\", 95),\n",
    "]\n",
    "\n",
    "columns = [\"estudiante\", \"puntaje\"]\n",
    "\n",
    "df = spark.createDataFrame(data, columns)\n",
    "\n",
    "print(\"=== Datos de ejemplo ===\")\n",
    "df.show()\n",
    "\n",
    "# Definir ventana: ordenamos por puntaje descendente\n",
    "window_spec = Window.orderBy(F.desc(\"puntaje\"))\n",
    "\n",
    "# Aplicar rank() y dense_rank()\n",
    "df_rank = df.withColumn(\"rank\", F.rank().over(window_spec)) \\\n",
    "            .withColumn(\"dense_rank\", F.dense_rank().over(window_spec))\n",
    "\n",
    "print(\"=== Comparación entre rank() y dense_rank() ===\")\n",
    "df_rank.show()"
   ]
  },
  {
   "cell_type": "markdown",
   "metadata": {
    "application/vnd.databricks.v1+cell": {
     "cellMetadata": {
      "byteLimit": 2048000,
      "rowLimit": 10000
     },
     "inputWidgets": {},
     "nuid": "14690f15-5ffc-4d3b-8f75-b3f5f86c5699",
     "showTitle": false,
     "tableResultSettingsMap": {},
     "title": ""
    }
   },
   "source": [
    "## Funciones de Ventana (Window Functions)\n",
    "Aplicamos **row_number, dense_rank, lag y lead** para obtener diferentes perspectivas:\n",
    "\n",
    "- `row_number`: la venta más alta por cliente  \n",
    "- `dense_rank`: ranking de productos por línea de producto  \n",
    "- `lag/lead`: comparación de ventas con pedido anterior y siguiente  "
   ]
  },
  {
   "cell_type": "code",
   "execution_count": 0,
   "metadata": {
    "application/vnd.databricks.v1+cell": {
     "cellMetadata": {
      "byteLimit": 2048000,
      "rowLimit": 10000
     },
     "inputWidgets": {},
     "nuid": "aa574ebc-e441-4be3-9684-141bc0b39f0d",
     "showTitle": true,
     "tableResultSettingsMap": {},
     "title": "APLICACIÓN DE LA FUNCIÓN WINDOW EN EL DATASET SALES_RAW"
    }
   },
   "outputs": [],
   "source": [
    "# row_number\n",
    "w_customer_sales = Window.partitionBy(\"CUSTOMERNAME\").orderBy(F.desc(\"SALES\"))\n",
    "df_top_sale_per_customer = df_sales.withColumn(\"rn\", F.row_number().over(w_customer_sales)) \\\n",
    "                                     .filter(F.col(\"rn\") == 1)\n",
    "\n",
    "display(df_top_sale_per_customer.limit(10))\n",
    "\n",
    "# dense_rank\n",
    "prod_agg = df_sales.groupBy(\"PRODUCTCODE\", \"PRODUCTLINE\") \\\n",
    "                   .agg(F.sum(\"SALES\").alias(\"total_sale_product\"))\n",
    "prod_agg = prod_agg.withColumn(\"dense_rank\", F.dense_rank().over(Window.partitionBy(\"PRODUCTLINE\").orderBy(F.desc(\"total_sale_product\"))))\n",
    "\n",
    "display(prod_agg.filter(F.col(\"dense_rank\") <= 5))\n",
    "\n",
    "# lag / lead\n",
    "w_customer_date = Window.partitionBy(\"CUSTOMERNAME\").orderBy(\"ORDERDATE\")\n",
    "df_with_lag_lead = df_sales.withColumn(\"prev_sales\", F.lag(\"SALES\").over(w_customer_date)) \\\n",
    "                          .withColumn(\"next_sales\", F.lead(\"SALES\").over(w_customer_date))\n",
    "\n",
    "display(df_with_lag_lead.select(\"CUSTOMERNAME\", \"ORDERNUMBER\", \"ORDERDATE\", \"SALES\", \"prev_sales\", \"next_sales\").limit(20))"
   ]
  }
 ],
 "metadata": {
  "application/vnd.databricks.v1+notebook": {
   "computePreferences": {
    "hardware": {
     "accelerator": null,
     "gpuPoolId": null,
     "memory": null
    }
   },
   "dashboards": [],
   "environmentMetadata": {
    "base_environment": "",
    "environment_version": "3"
   },
   "inputWidgetPreferences": null,
   "language": "python",
   "notebookMetadata": {
    "mostRecentlyExecutedCommandWithImplicitDF": {
     "commandId": 5367039509624598,
     "dataframes": [
      "_sqldf"
     ]
    },
    "pythonIndentUnit": 4
   },
   "notebookName": "Sales Data Sample (databricks)",
   "widgets": {}
  },
  "language_info": {
   "name": "python"
  }
 },
 "nbformat": 4,
 "nbformat_minor": 0
}

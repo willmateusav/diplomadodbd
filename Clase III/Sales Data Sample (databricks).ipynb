{
 "cells": [
  {
   "cell_type": "markdown",
   "metadata": {
    "application/vnd.databricks.v1+cell": {
     "cellMetadata": {
      "byteLimit": 2048000,
      "rowLimit": 10000
     },
     "inputWidgets": {},
     "nuid": "1f7365cc-531a-46d0-aa4b-fe7b6c488813",
     "showTitle": false,
     "tableResultSettingsMap": {},
     "title": ""
    }
   },
   "source": [
    "# 📊 Notebook de Análisis y Persistencia de `sales_data_sample`\n",
    "\n",
    "Este notebook en **Databricks + PySpark** carga, procesa y analiza el archivo \n",
    "`sales_data_sample.csv`.  \n",
    "\n",
    "Incluye:\n",
    "- ✅ Lectura \n",
    "- ✅ Creación de vistas temporales y persistentes  \n",
    "- ✅ Consultas con joins y agregaciones  \n",
    "- ✅ Ejemplos de funciones de ventana explicadas en detalle  "
   ]
  },
  {
   "cell_type": "code",
   "execution_count": 0,
   "metadata": {
    "application/vnd.databricks.v1+cell": {
     "cellMetadata": {
      "byteLimit": 2048000,
      "rowLimit": 10000
     },
     "inputWidgets": {},
     "nuid": "f516e49d-6393-46e5-bad0-a05cdb6246e3",
     "showTitle": true,
     "tableResultSettingsMap": {},
     "title": "LECTURA DEL ARCHIVO"
    }
   },
   "outputs": [],
   "source": [
    "from pyspark.sql import functions as F\n",
    "from pyspark.sql.window import Window\n",
    "\n",
    "# Ruta por defecto (ajusta si tu CSV está en otra ubicación)\n",
    "file_path = \"/Volumes/workspace/dbtest/dataclase3\"\n",
    "\n",
    "# Lectura del CSV con header=True y separador ','\n",
    "df_sales = spark.read.option(\"header\", \"true\") \\\n",
    ".option(\"sep\", \",\") \\\n",
    ".option(\"inferSchema\", \"true\") \\\n",
    ".csv(file_path)\n",
    "\n",
    "# Mostrar esquema y primeras filas\n",
    "print(\"Esquema detectado:\")\n",
    "df_sales.printSchema()\n",
    "\n",
    "# En Databricks es práctico usar display()\n",
    "display(df_sales.limit(10))"
   ]
  },
  {
   "cell_type": "markdown",
   "metadata": {
    "application/vnd.databricks.v1+cell": {
     "cellMetadata": {
      "byteLimit": 2048000,
      "rowLimit": 10000
     },
     "inputWidgets": {},
     "nuid": "cb635622-813f-4645-9786-73c7f6c8620e",
     "showTitle": false,
     "tableResultSettingsMap": {},
     "title": ""
    }
   },
   "source": [
    "## Creación de Vistas Temporales y Globales\n",
    "En Spark/Databricks podemos exponer DataFrames como vistas SQL:\n",
    "\n",
    "- **Vista Temporal**: solo disponible en la sesión actual.  \n",
    "- **Vista Global Temporal**: accesible desde todas las sesiones dentro de la aplicación Spark.  "
   ]
  },
  {
   "cell_type": "code",
   "execution_count": 0,
   "metadata": {
    "application/vnd.databricks.v1+cell": {
     "cellMetadata": {
      "byteLimit": 2048000,
      "rowLimit": 10000
     },
     "inputWidgets": {},
     "nuid": "ad2c4b20-cf2b-4333-ab76-0b127969ee31",
     "showTitle": true,
     "tableResultSettingsMap": {},
     "title": "VISTAS TEMPORALES Y GLOBALES"
    }
   },
   "outputs": [],
   "source": [
    "\n",
    "# Vista temporal\n",
    "df_sales.createOrReplaceTempView(\"vw_sales_temp\")\n",
    "\n",
    "# Vista global\n",
    "df_sales.createOrReplaceGlobalTempView(\"vw_sales_global\")\n",
    "\n",
    "print(\"✅ Vistas creadas: vw_sales_temp (temporal) y global_temp.vw_sales_global (global)\")"
   ]
  },
  {
   "cell_type": "markdown",
   "metadata": {
    "application/vnd.databricks.v1+cell": {
     "cellMetadata": {
      "byteLimit": 2048000,
      "rowLimit": 10000
     },
     "inputWidgets": {},
     "nuid": "ae972303-36bd-442e-9e10-8eec95c1f010",
     "showTitle": false,
     "tableResultSettingsMap": {},
     "title": ""
    }
   },
   "source": [
    "## Creación de Tabla Persistente en Catálogo\n",
    "Creamos un esquema llamado `sales_analytics` y guardamos la tabla en formato **Delta**.  \n",
    "Este formato soporta **ACID transactions, versioning y optimizaciones**."
   ]
  },
  {
   "cell_type": "code",
   "execution_count": 0,
   "metadata": {
    "application/vnd.databricks.v1+cell": {
     "cellMetadata": {
      "byteLimit": 2048000,
      "rowLimit": 10000
     },
     "inputWidgets": {},
     "nuid": "4c0768e4-897a-4ea3-b3b4-9e2005c9f423",
     "showTitle": true,
     "tableResultSettingsMap": {},
     "title": "CREACIÓN DE TABLA"
    }
   },
   "outputs": [],
   "source": [
    "spark.sql(\"CREATE DATABASE IF NOT EXISTS sales_analytics\")\n",
    "\n",
    "df_sales.write.format(\"delta\").mode(\"overwrite\").saveAsTable(\"sales_analytics.sales_raw\")\n",
    "\n",
    "print(\"✅ Tabla persistente creada: sales_analytics.sales_raw\")\n",
    "\n",
    "display(spark.catalog.listTables(\"sales_analytics\"))"
   ]
  },
  {
   "cell_type": "markdown",
   "metadata": {
    "application/vnd.databricks.v1+cell": {
     "cellMetadata": {
      "byteLimit": 2048000,
      "rowLimit": 10000
     },
     "inputWidgets": {},
     "nuid": "7fe93636-462c-484d-b858-61d9d25ca820",
     "showTitle": false,
     "tableResultSettingsMap": {},
     "title": ""
    }
   },
   "source": [
    "### Agregaciones y Joins\n",
    "1. Resumen de ventas por cliente  \n",
    "2. Catálogo de productos únicos  \n",
    "3. Join con los **Top 10 clientes** y pedidos con `QUANTITYORDERED` superior al promedio global"
   ]
  },
  {
   "cell_type": "code",
   "execution_count": 0,
   "metadata": {
    "application/vnd.databricks.v1+cell": {
     "cellMetadata": {
      "byteLimit": 2048000,
      "rowLimit": 10000
     },
     "inputWidgets": {},
     "nuid": "7bea6960-ffb8-4cb9-b343-c832be07c612",
     "showTitle": true,
     "tableResultSettingsMap": {},
     "title": "JOIN"
    }
   },
   "outputs": [],
   "source": [
    "agg_cliente = df_sales.groupBy(\"CUSTOMERNAME\") \\\n",
    "                     .agg(F.sum(\"SALES\").alias(\"total_sales\"), \\\n",
    "                          F.countDistinct(\"ORDERNUMBER\").alias(\"order_count\")) \\\n",
    "                     .orderBy(F.desc(\"total_sales\"))\n",
    "\n",
    "display(agg_cliente.limit(10))\n",
    "\n",
    "productos = df_sales.select(\"PRODUCTCODE\", \"PRODUCTLINE\", \"MSRP\", \"PRICEEACH\").dropDuplicates([\"PRODUCTCODE\"])\n",
    "\n",
    "top10_customers = [r[\"CUSTOMERNAME\"] for r in agg_cliente.limit(10).collect()]\n",
    "avg_qty = df_sales.agg(F.avg(\"QUANTITYORDERED\")).collect()[0][0]\n",
    "\n",
    "df_top_orders = df_sales.filter((F.col(\"CUSTOMERNAME\").isin(top10_customers)) & (F.col(\"QUANTITYORDERED\") > avg_qty))\n",
    "\n",
    "display(df_top_orders.limit(20))"
   ]
  },
  {
   "cell_type": "markdown",
   "metadata": {
    "application/vnd.databricks.v1+cell": {
     "cellMetadata": {
      "byteLimit": 2048000,
      "rowLimit": 10000
     },
     "inputWidgets": {},
     "nuid": "14690f15-5ffc-4d3b-8f75-b3f5f86c5699",
     "showTitle": false,
     "tableResultSettingsMap": {},
     "title": ""
    }
   },
   "source": [
    "## Funciones de Ventana (Window Functions)\n",
    "Aplicamos **row_number, dense_rank, lag y lead** para obtener diferentes perspectivas:\n",
    "\n",
    "- `row_number`: la venta más alta por cliente  \n",
    "- `dense_rank`: ranking de productos por línea de producto  \n",
    "- `lag/lead`: comparación de ventas con pedido anterior y siguiente  "
   ]
  },
  {
   "cell_type": "code",
   "execution_count": 0,
   "metadata": {
    "application/vnd.databricks.v1+cell": {
     "cellMetadata": {
      "byteLimit": 2048000,
      "rowLimit": 10000
     },
     "inputWidgets": {},
     "nuid": "aa574ebc-e441-4be3-9684-141bc0b39f0d",
     "showTitle": false,
     "tableResultSettingsMap": {},
     "title": ""
    }
   },
   "outputs": [],
   "source": [
    "# row_number\n",
    "w_customer_sales = Window.partitionBy(\"CUSTOMERNAME\").orderBy(F.desc(\"SALES\"))\n",
    "df_top_sale_per_customer = df_sales.withColumn(\"rn\", F.row_number().over(w_customer_sales)) \\\n",
    "                                     .filter(F.col(\"rn\") == 1)\n",
    "\n",
    "display(df_top_sale_per_customer.limit(10))\n",
    "\n",
    "# dense_rank\n",
    "prod_agg = df_sales.groupBy(\"PRODUCTCODE\", \"PRODUCTLINE\") \\\n",
    "                   .agg(F.sum(\"SALES\").alias(\"total_sale_product\"))\n",
    "prod_agg = prod_agg.withColumn(\"dense_rank\", F.dense_rank().over(Window.partitionBy(\"PRODUCTLINE\").orderBy(F.desc(\"total_sale_product\"))))\n",
    "\n",
    "display(prod_agg.filter(F.col(\"dense_rank\") <= 5))\n",
    "\n",
    "# lag / lead\n",
    "w_customer_date = Window.partitionBy(\"CUSTOMERNAME\").orderBy(\"ORDERDATE\")\n",
    "df_with_lag_lead = df_sales.withColumn(\"prev_sales\", F.lag(\"SALES\").over(w_customer_date)) \\\n",
    "                          .withColumn(\"next_sales\", F.lead(\"SALES\").over(w_customer_date))\n",
    "\n",
    "display(df_with_lag_lead.select(\"CUSTOMERNAME\", \"ORDERNUMBER\", \"ORDERDATE\", \"SALES\", \"prev_sales\", \"next_sales\").limit(20))"
   ]
  }
 ],
 "metadata": {
  "application/vnd.databricks.v1+notebook": {
   "computePreferences": null,
   "dashboards": [],
   "environmentMetadata": {
    "base_environment": "",
    "environment_version": "3"
   },
   "inputWidgetPreferences": null,
   "language": "python",
   "notebookMetadata": {
    "pythonIndentUnit": 4
   },
   "notebookName": "Sales Data Sample (databricks)",
   "widgets": {}
  },
  "language_info": {
   "name": "python"
  }
 },
 "nbformat": 4,
 "nbformat_minor": 0
}

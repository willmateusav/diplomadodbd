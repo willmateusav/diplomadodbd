{
 "cells": [
  {
   "cell_type": "code",
   "execution_count": 0,
   "metadata": {
    "application/vnd.databricks.v1+cell": {
     "cellMetadata": {
      "byteLimit": 2048000,
      "rowLimit": 10000
     },
     "inputWidgets": {},
     "nuid": "140cd5e8-992c-4cb3-a0c4-53223a4f12ad",
     "showTitle": true,
     "tableResultSettingsMap": {},
     "title": "LLAMADO DE ARCHIVOS"
    }
   },
   "outputs": [],
   "source": [
    "# Definimos la ruta base del volumen\n",
    "base_path = \"/Volumes/workspace/dbtest/dataclase2/\"\n",
    "\n",
    "# Leemos los archivos CSV como DataFrames\n",
    "athletes_df = spark.read.option(\"header\", True).option(\"delimiter\", \",\").csv(f\"{base_path}Athletes.csv\")\n",
    "coaches_df = spark.read.option(\"header\", True).option(\"delimiter\", \",\").csv(f\"{base_path}Coaches.csv\")\n",
    "entries_gender_df = spark.read.option(\"header\", True).option(\"delimiter\", \",\").csv(f\"{base_path}EntriesGender.csv\")\n",
    "medals_df = spark.read.option(\"header\", True).option(\"delimiter\", \",\").csv(f\"{base_path}Medals.csv\")\n",
    "teams_df = spark.read.option(\"header\", True).option(\"delimiter\", \",\").csv(f\"{base_path}Teams.csv\")"
   ]
  },
  {
   "cell_type": "markdown",
   "metadata": {
    "application/vnd.databricks.v1+cell": {
     "cellMetadata": {
      "byteLimit": 2048000,
      "rowLimit": 10000
     },
     "inputWidgets": {},
     "nuid": "a593a962-50bb-4e17-a2ab-ddcaa7819613",
     "showTitle": false,
     "tableResultSettingsMap": {},
     "title": ""
    }
   },
   "source": [
    "# Operaciones en PySpark: `schema` y `show`\n",
    "\n",
    "## 1. `schema`\n",
    "\n",
    "La operación **`schema`** en PySpark se utiliza para conocer la **estructura de un DataFrame**. Esto incluye:  \n",
    "\n",
    "- Los **nombres de las columnas**  \n",
    "- El **tipo de dato** de cada columna (`StringType`, `IntegerType`, `DoubleType`, etc.)  \n",
    "- Si la columna permite `null` o no (`nullable`)  \n",
    "\n",
    "**Ejemplo de uso:**\n",
    "\n",
    "```python\n",
    "# Mostramos la estructura del DataFrame athletes_df\n",
    "athletes_df.printSchema()\n",
    "\n",
    "Ejemplo de salida:\n",
    "\n",
    "root\n",
    " |-- ID: IntegerType (nullable = true)\n",
    " |-- Name: StringType (nullable = true)\n",
    " |-- Age: IntegerType (nullable = true)\n",
    " |-- Country: StringType (nullable = true)\n",
    " |-- Sport: StringType (nullable = true)\n",
    "\n",
    "Explicación del detalle:\n",
    "\n",
    "root: Raíz del DataFrame.\n",
    "\n",
    "Cada línea indica:\n",
    "\n",
    "Nombre de la columna (ID, Name, etc.)\n",
    "\n",
    "Tipo de dato (IntegerType, StringType, etc.)\n",
    "\n",
    "Si acepta valores nulos (nullable = true/false)\n",
    "\n",
    "2. show\n",
    "\n",
    "La operación show() se utiliza para visualizar los datos de un DataFrame de manera tabular en la consola.\n",
    "\n",
    "Ejemplo de uso:\n",
    "\n",
    "Mostrar las primeras 5 filas del DataFrame athletes_df\n",
    "athletes_df.show(5)\n",
    "\n",
    "+---+--------+---+-----------+----------+\n",
    "| ID|    Name|Age|    Country|     Sport|\n",
    "+---+--------+---+-----------+----------+\n",
    "|  1| John Doe| 25|        USA|    Soccer|\n",
    "|  2| Jane Doe| 23|     Canada|Basketball|\n",
    "|  3| Mike Lee| 28|        USA|  Swimming|\n",
    "|  4| Sara Kim| 22| South Korea|   Tennis|\n",
    "|  5| Tom Chen| 30|     Taiwan| Baseball|\n",
    "+---+--------+---+-----------+----------+\n",
    "\n",
    "\n",
    "Opciones útiles de show():\n",
    "\n",
    "df.show(n=10, truncate=False) → muestra las primeras n filas y evita truncar texto largo.\n",
    "\n",
    "df.show(vertical=True) → muestra cada fila en formato vertical (útil para muchas columnas)."
   ]
  },
  {
   "cell_type": "code",
   "execution_count": 0,
   "metadata": {
    "application/vnd.databricks.v1+cell": {
     "cellMetadata": {
      "byteLimit": 2048000,
      "rowLimit": 10000
     },
     "inputWidgets": {},
     "nuid": "d6e90e0a-cbce-4afb-8baf-857b3f47554d",
     "showTitle": true,
     "tableResultSettingsMap": {},
     "title": "SCHEMA Y SHOW"
    }
   },
   "outputs": [],
   "source": [
    "# mostramos el esquema de cada DataFrame\n",
    "athletes_df.printSchema()\n",
    "# coaches_df.printSchema()\n",
    "# entries_gender_df.printSchema()\n",
    "# medals_df.printSchema()\n",
    "# teams_df.printSchema()\n",
    "\n",
    "# Mostramos un preview de cada DataFrame\n",
    "athletes_df.show(5)\n",
    "# coaches_df.show(5)\n",
    "# entries_gender_df.show(5)\n",
    "# medals_df.show(5)\n",
    "# teams_df.show(5)"
   ]
  },
  {
   "cell_type": "code",
   "execution_count": 0,
   "metadata": {
    "application/vnd.databricks.v1+cell": {
     "cellMetadata": {
      "byteLimit": 2048000,
      "rowLimit": 10000
     },
     "inputWidgets": {},
     "nuid": "f86a74cb-1bc3-439b-b7f3-594fb6ee48a7",
     "showTitle": true,
     "tableResultSettingsMap": {},
     "title": "CASTEO DE COLUMNAS"
    }
   },
   "outputs": [],
   "source": [
    "# Importamos funciones de PySpark\n",
    "from pyspark.sql import functions as F\n",
    "from pyspark.sql.types import IntegerType\n",
    "\n",
    "# Convertimos las columnas a IntegerType usando F.col\n",
    "entries_gender_df = entries_gender_df \\\n",
    "    .withColumn(\"Female\", F.col(\"Female\").cast(IntegerType())) \\\n",
    "    .withColumn(\"Male\", F.col(\"Male\").cast(IntegerType())) \\\n",
    "    .withColumn(\"Total\", F.col(\"Total\").cast(IntegerType()))\n",
    "\n",
    "# Mostramos un preview para verificar\n",
    "entries_gender_df.show(5)"
   ]
  },
  {
   "cell_type": "code",
   "execution_count": 0,
   "metadata": {
    "application/vnd.databricks.v1+cell": {
     "cellMetadata": {
      "byteLimit": 2048000,
      "rowLimit": 10000
     },
     "inputWidgets": {},
     "nuid": "33b83c1b-f99c-46da-ba2e-5971f86c66f1",
     "showTitle": true,
     "tableResultSettingsMap": {},
     "title": "VALIDAR CASTEO"
    }
   },
   "outputs": [],
   "source": [
    "entries_gender_df.printSchema()"
   ]
  },
  {
   "cell_type": "code",
   "execution_count": 0,
   "metadata": {
    "application/vnd.databricks.v1+cell": {
     "cellMetadata": {
      "byteLimit": 2048000,
      "rowLimit": 10000
     },
     "inputWidgets": {},
     "nuid": "a1dbbc4d-457b-4db2-aa1e-65047ccc9247",
     "showTitle": false,
     "tableResultSettingsMap": {},
     "title": ""
    }
   },
   "outputs": [],
   "source": [
    "from pyspark.sql import functions as F\n",
    "\n",
    "# Ordenamos por la columna \"Gold\" de manera descendente y seleccionamos país y medallas de oro\n",
    "top_gold_medal_countries = medals_df \\\n",
    "    .orderBy(F.col(\"Gold\").desc()) \\\n",
    "    .select(F.col(\"TeamCountry\"), F.col(\"Gold\"))\n",
    "\n",
    "# Mostramos los primeros resultados\n",
    "top_gold_medal_countries.show(10)"
   ]
  },
  {
   "cell_type": "code",
   "execution_count": 0,
   "metadata": {
    "application/vnd.databricks.v1+cell": {
     "cellMetadata": {
      "byteLimit": 2048000,
      "rowLimit": 10000
     },
     "inputWidgets": {},
     "nuid": "227067b1-3b5b-4a01-a3d1-5bf3f5972cd7",
     "showTitle": false,
     "tableResultSettingsMap": {},
     "title": ""
    }
   },
   "outputs": [],
   "source": [
    "from pyspark.sql import functions as F\n",
    "\n",
    "# Calculamos el promedio de entradas por género para cada disciplina\n",
    "average_entries_by_gender = entries_gender_df \\\n",
    "    .withColumn('Avg_Female', F.col('Female') / F.col('Total')) \\\n",
    "    .withColumn('Avg_Male', F.col('Male') / F.col('Total'))\n",
    "\n",
    "# Mostramos los resultados\n",
    "average_entries_by_gender.show(10)"
   ]
  },
  {
   "cell_type": "code",
   "execution_count": 0,
   "metadata": {
    "application/vnd.databricks.v1+cell": {
     "cellMetadata": {
      "byteLimit": 2048000,
      "rowLimit": 10000
     },
     "inputWidgets": {},
     "nuid": "b2bda1f9-a0d7-46df-a895-b418522dc40d",
     "showTitle": false,
     "tableResultSettingsMap": {},
     "title": ""
    }
   },
   "outputs": [],
   "source": [
    "athletes.repartition(1).write.mode(\"overwrite\").option(\"header\",'true').csv(\"/mnt/tokyoolymic/transformed-data/athletes\")"
   ]
  },
  {
   "cell_type": "code",
   "execution_count": 0,
   "metadata": {
    "application/vnd.databricks.v1+cell": {
     "cellMetadata": {
      "byteLimit": 2048000,
      "rowLimit": 10000
     },
     "inputWidgets": {},
     "nuid": "c489a24b-05e4-47c3-a329-9d5e5e1d85b3",
     "showTitle": false,
     "tableResultSettingsMap": {},
     "title": ""
    }
   },
   "outputs": [],
   "source": [
    "coaches.repartition(1).write.mode(\"overwrite\").option(\"header\",\"true\").csv(\"/mnt/tokyoolymic/transformed-data/coaches\")\n",
    "entriesgender.repartition(1).write.mode(\"overwrite\").option(\"header\",\"true\").csv(\"/mnt/tokyoolymic/transformed-data/entriesgender\")\n",
    "medals.repartition(1).write.mode(\"overwrite\").option(\"header\",\"true\").csv(\"/mnt/tokyoolymic/transformed-data/medals\")\n",
    "teams.repartition(1).write.mode(\"overwrite\").option(\"header\",\"true\").csv(\"/mnt/tokyoolymic/transformed-data/teams\")"
   ]
  },
  {
   "cell_type": "code",
   "execution_count": 0,
   "metadata": {
    "application/vnd.databricks.v1+cell": {
     "cellMetadata": {},
     "inputWidgets": {},
     "nuid": "bb18401a-d221-4421-9a8d-4d8c5cbdee29",
     "showTitle": false,
     "tableResultSettingsMap": {},
     "title": ""
    }
   },
   "outputs": [],
   "source": []
  }
 ],
 "metadata": {
  "application/vnd.databricks.v1+notebook": {
   "computePreferences": null,
   "dashboards": [],
   "environmentMetadata": null,
   "inputWidgetPreferences": null,
   "language": "python",
   "notebookMetadata": {
    "mostRecentlyExecutedCommandWithImplicitDF": {
     "commandId": 1201695797254400,
     "dataframes": [
      "_sqldf"
     ]
    },
    "pythonIndentUnit": 4
   },
   "notebookName": "Tokyo Olympic Transformation",
   "widgets": {}
  },
  "language_info": {
   "name": "python"
  }
 },
 "nbformat": 4,
 "nbformat_minor": 0
}

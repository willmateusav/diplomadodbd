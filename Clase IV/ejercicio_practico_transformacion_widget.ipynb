{
 "cells": [
  {
   "cell_type": "code",
   "execution_count": 0,
   "metadata": {
    "application/vnd.databricks.v1+cell": {
     "cellMetadata": {
      "byteLimit": 2048000,
      "rowLimit": 10000
     },
     "inputWidgets": {},
     "nuid": "3f2cc307-f4bc-4981-8ab2-4285bb2d3942",
     "showTitle": true,
     "tableResultSettingsMap": {},
     "title": "LIBRERÍAS"
    }
   },
   "outputs": [],
   "source": [
    "import pyspark.sql.functions as F"
   ]
  },
  {
   "cell_type": "code",
   "execution_count": 0,
   "metadata": {
    "application/vnd.databricks.v1+cell": {
     "cellMetadata": {
      "byteLimit": 2048000,
      "rowLimit": 10000
     },
     "inputWidgets": {},
     "nuid": "f57748c7-d9db-4ecb-b91a-d28273cf33d4",
     "showTitle": true,
     "tableResultSettingsMap": {},
     "title": "WIDGET"
    }
   },
   "outputs": [],
   "source": [
    "dbutils.widgets.text(\"nombre_tabla\", \"colaboradores\", \"Nombre de la tabla Gold\")\n",
    "nombre_tabla = dbutils.widgets.get(\"nombre_tabla\")"
   ]
  },
  {
   "cell_type": "markdown",
   "metadata": {
    "application/vnd.databricks.v1+cell": {
     "cellMetadata": {},
     "inputWidgets": {},
     "nuid": "ad7c6ac4-3051-4fa5-9812-8a7b9bb73f27",
     "showTitle": false,
     "tableResultSettingsMap": {},
     "title": ""
    }
   },
   "source": [
    "Configuración del widget en databricks\n",
    "| Key            | Value                \n",
    "| -------------- | -------------------- |\n",
    "| `nombre_tabla` | `colaboradores_2025` |\n"
   ]
  },
  {
   "cell_type": "code",
   "execution_count": 0,
   "metadata": {
    "application/vnd.databricks.v1+cell": {
     "cellMetadata": {
      "byteLimit": 2048000,
      "rowLimit": 10000
     },
     "inputWidgets": {},
     "nuid": "be69b575-f1ef-4a72-92dc-bb97c8275360",
     "showTitle": false,
     "tableResultSettingsMap": {},
     "title": ""
    }
   },
   "outputs": [],
   "source": [
    "# 1. Leer la tabla silver\n",
    "df = spark.table(\"dbdemos.default.colaboradores_consolidados\")\n",
    "\n",
    "# 2. Procesos de limpieza/consolidación con anonimización\n",
    "df_gold = (\n",
    "    df.withColumn(\"DocAfil\", F.regexp_replace(\"DocAfil\", \"[^0-9]\", \"\"))  # normaliza documento\n",
    "      .withColumn(\"DocAfil_hash\", F.sha2(F.col(\"DocAfil\"), 256))         # anonimiza\n",
    "      .drop(\"DocAfil\")                                                   # elimina el original\n",
    "      .withColumn(\"porcentaje_laboral\", \n",
    "                  F.regexp_replace(\"porcentaje_laboral\", \",\", \".\").cast(DoubleType()))\n",
    "      .withColumn(\"promedio_salario\", \n",
    "                  F.regexp_replace(\"promedio_salario\", \",\", \".\").cast(DoubleType()))\n",
    "      .withColumn(\"porcentaje_laboral\", \n",
    "                  F.when(F.col(\"porcentaje_laboral\").isNull(), F.lit(0))\n",
    "                   .when(F.col(\"porcentaje_laboral\") > 100, F.lit(100))\n",
    "                   .when(F.col(\"porcentaje_laboral\") < 0, F.lit(0))\n",
    "                   .otherwise(F.col(\"porcentaje_laboral\")))\n",
    "      .withColumn(\"promedio_salario\", F.round(F.col(\"promedio_salario\"), 2))\n",
    "      .withColumn(\"es_continuo\", \n",
    "                  F.when(F.col(\"max_periodo\") - F.col(\"min_periodo\") + 1 == F.col(\"n_periodos\"), F.lit(True))\n",
    "                   .otherwise(F.lit(False)))\n",
    "      .withColumn(\"fecha_proceso\", F.current_date())\n",
    ")\n",
    "\n",
    "# 3. Almacenamiento definitivo en Gold Layer usando el widget\n",
    "(\n",
    "    df_gold.write\n",
    "    .format(\"delta\")\n",
    "    .mode(\"overwrite\")\n",
    "    .saveAsTable(f\"dbdemos.default.{nombre_tabla}\")\n",
    ")\n",
    "\n",
    "print(f\"✅ Tabla Gold creada correctamente: dbdemos.default.{nombre_tabla}\")"
   ]
  }
 ],
 "metadata": {
  "application/vnd.databricks.v1+notebook": {
   "computePreferences": null,
   "dashboards": [],
   "environmentMetadata": {
    "base_environment": "",
    "environment_version": "3"
   },
   "inputWidgetPreferences": null,
   "language": "python",
   "notebookMetadata": {
    "pythonIndentUnit": 4
   },
   "notebookName": "ejercicio_practico_transformacion_widget",
   "widgets": {
    "nombre_tabla": {
     "currentValue": "colaboradores_1",
     "nuid": "27a91ef8-8984-4f26-a2c5-c521c2b60319",
     "typedWidgetInfo": {
      "autoCreated": false,
      "defaultValue": "colaboradores",
      "label": "Nombre de la tabla Gold",
      "name": "nombre_tabla",
      "options": {
       "widgetDisplayType": "Text",
       "validationRegex": null
      },
      "parameterDataType": "String"
     },
     "widgetInfo": {
      "widgetType": "text",
      "defaultValue": "colaboradores",
      "label": "Nombre de la tabla Gold",
      "name": "nombre_tabla",
      "options": {
       "widgetType": "text",
       "autoCreated": null,
       "validationRegex": null
      }
     }
    }
   }
  },
  "language_info": {
   "name": "python"
  }
 },
 "nbformat": 4,
 "nbformat_minor": 0
}

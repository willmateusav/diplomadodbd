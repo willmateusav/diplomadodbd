{
 "cells": [
  {
   "cell_type": "code",
   "execution_count": 0,
   "metadata": {
    "application/vnd.databricks.v1+cell": {
     "cellMetadata": {
      "byteLimit": 2048000,
      "rowLimit": 10000
     },
     "inputWidgets": {},
     "nuid": "6e078542-e02f-49dd-aaa8-77b93f9d7ed1",
     "showTitle": true,
     "tableResultSettingsMap": {},
     "title": "LIBRERÍAS"
    }
   },
   "outputs": [],
   "source": [
    "import pyspark.sql.functions as F "
   ]
  },
  {
   "cell_type": "code",
   "execution_count": 0,
   "metadata": {
    "application/vnd.databricks.v1+cell": {
     "cellMetadata": {
      "byteLimit": 2048000,
      "rowLimit": 10000
     },
     "inputWidgets": {},
     "nuid": "9103f37e-542f-44c7-b391-f2f4796209cb",
     "showTitle": true,
     "tableResultSettingsMap": {},
     "title": "UNIFICADOR DE ARCHIVOS"
    }
   },
   "outputs": [],
   "source": [
    "# 1. Definir la ruta de los archivos de entrada (ajústala a tu almacenamiento)\n",
    "input_paths = [\n",
    "    \"/Volumes/dbdemos/default/test_data/parte_1.txt\",\n",
    "    \"/Volumes/dbdemos/default/test_data/parte_2.txt\",\n",
    "    \"/Volumes/dbdemos/default/test_data/parte_3.txt\"\n",
    "]\n",
    "\n",
    "# 2. Función para leer archivos TSV con esquema inferido\n",
    "def read_tsv(path: str):\n",
    "    return (spark.read\n",
    "            .option(\"header\", True)   # si los archivos tienen encabezado\n",
    "            .option(\"sep\", \"\\t\")      # tabulador\n",
    "            .option(\"inferSchema\", True)\n",
    "            .csv(path))\n",
    "\n",
    "# 3. Leer y unir los tres archivos\n",
    "dfs = [read_tsv(path) for path in input_paths]\n",
    "df_consolidado = dfs[0].unionByName(dfs[1], allowMissingColumns=True) \\\n",
    "                       .unionByName(dfs[2], allowMissingColumns=True)\n",
    "\n",
    "# 4. Ejemplo de uso de funciones F (por buenas prácticas en Spark)\n",
    "# 👉 Se agrega una columna con la fecha de carga\n",
    "df_consolidado = df_consolidado.withColumn(\"fecha_carga\", F.current_date())\n",
    "\n",
    "# 5. Guardar en tabla del catálogo (formato Delta recomendado en Silver Layer)\n",
    "(\n",
    "    df_consolidado.write\n",
    "    .format(\"delta\")\n",
    "    .mode(\"overwrite\")  # cuidado: sobreescribe la tabla\n",
    "    .saveAsTable(\"dbdemos.default.colaboradores_consolidados\")\n",
    ")\n",
    "\n",
    "print(\"✅ Consolidación completada y tabla creada en dbdemos.default.colaboradores_consolidados\")\n"
   ]
  },
  {
   "cell_type": "code",
   "execution_count": 0,
   "metadata": {
    "application/vnd.databricks.v1+cell": {
     "cellMetadata": {
      "byteLimit": 2048000,
      "implicitDf": true,
      "rowLimit": 10000
     },
     "inputWidgets": {},
     "nuid": "0aa448e0-60a1-42d2-b6b2-c302688862d0",
     "showTitle": false,
     "tableResultSettingsMap": {},
     "title": ""
    }
   },
   "outputs": [],
   "source": [
    "%sql\n",
    "SELECT *\n",
    "FROM dbdemos.default.colaboradores_consolidados;"
   ]
  }
 ],
 "metadata": {
  "application/vnd.databricks.v1+notebook": {
   "computePreferences": null,
   "dashboards": [],
   "environmentMetadata": {
    "base_environment": "",
    "environment_version": "3"
   },
   "inputWidgetPreferences": null,
   "language": "python",
   "notebookMetadata": {
    "mostRecentlyExecutedCommandWithImplicitDF": {
     "commandId": 6289955502348431,
     "dataframes": [
      "_sqldf"
     ]
    },
    "pythonIndentUnit": 4
   },
   "notebookName": "ejercicio_practico_consolidacion",
   "widgets": {}
  },
  "language_info": {
   "name": "python"
  }
 },
 "nbformat": 4,
 "nbformat_minor": 0
}

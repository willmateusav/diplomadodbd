{
 "cells": [
  {
   "cell_type": "code",
   "execution_count": 0,
   "metadata": {
    "application/vnd.databricks.v1+cell": {
     "cellMetadata": {},
     "inputWidgets": {},
     "nuid": "b66fedc4-9442-4d6c-a376-f0d95efb2207",
     "showTitle": true,
     "tableResultSettingsMap": {},
     "title": "LIBRERÍAS"
    }
   },
   "outputs": [],
   "source": [
    "import pyspark.sql.functions as F"
   ]
  },
  {
   "cell_type": "code",
   "execution_count": 0,
   "metadata": {
    "application/vnd.databricks.v1+cell": {
     "cellMetadata": {},
     "inputWidgets": {},
     "nuid": "e411fdbc-3741-47c2-a8ef-78e1911d83bc",
     "showTitle": true,
     "tableResultSettingsMap": {},
     "title": "TRANSFORMACIONES"
    }
   },
   "outputs": [],
   "source": [
    "# 1. Leer la tabla silver\n",
    "df = spark.table(\"dbdemos.default.colaboradores_consolidados\")\n",
    "\n",
    "# 2. Procesos de limpieza/consolidación con anonimización\n",
    "df_gold = (\n",
    "    df.withColumn(\"DocAfil\", F.regexp_replace(\"DocAfil\", \"[^0-9]\", \"\"))  # normaliza documento\n",
    "      .withColumn(\"DocAfil_hash\", F.sha2(F.col(\"DocAfil\"), 256))         # anonimiza\n",
    "      .drop(\"DocAfil\")                                                   # elimina el original\n",
    "      .withColumn(\"periodos_ordenados\", F.array_distinct(\"periodos_ordenados\"))\n",
    "      .withColumn(\"periodos_ordenados\", F.array_sort(\"periodos_ordenados\"))\n",
    "      .withColumn(\"n_periodos\", F.size(\"periodos_ordenados\"))\n",
    "      .withColumn(\"porcentaje_laboral\", \n",
    "                  F.when(F.col(\"porcentaje_laboral\").isNull(), F.lit(0))\n",
    "                   .when(F.col(\"porcentaje_laboral\") > 100, F.lit(100))\n",
    "                   .when(F.col(\"porcentaje_laboral\") < 0, F.lit(0))\n",
    "                   .otherwise(F.col(\"porcentaje_laboral\")))\n",
    "      .withColumn(\"promedio_salario\", F.round(F.col(\"promedio_salario\"), 2))\n",
    "      .withColumn(\"es_continuo\", \n",
    "                  F.when(F.col(\"max_periodo\") - F.col(\"min_periodo\") + 1 == F.col(\"n_periodos\"), F.lit(True))\n",
    "                   .otherwise(F.lit(False)))\n",
    "      .withColumn(\"fecha_proceso\", F.current_date())\n",
    ")\n",
    "\n",
    "# 3. Almacenamiento definitivo en Gold Layer\n",
    "(\n",
    "    df_gold.write\n",
    "    .format(\"delta\")\n",
    "    .mode(\"overwrite\")\n",
    "    .saveAsTable(\"dbdemos.default.colaboradores\")\n",
    ")\n"
   ]
  }
 ],
 "metadata": {
  "application/vnd.databricks.v1+notebook": {
   "computePreferences": null,
   "dashboards": [],
   "environmentMetadata": {
    "base_environment": "",
    "environment_version": "3"
   },
   "inputWidgetPreferences": null,
   "language": "python",
   "notebookMetadata": {
    "pythonIndentUnit": 4
   },
   "notebookName": "ejercicio_practico_transformacion",
   "widgets": {}
  },
  "language_info": {
   "name": "python"
  }
 },
 "nbformat": 4,
 "nbformat_minor": 0
}
